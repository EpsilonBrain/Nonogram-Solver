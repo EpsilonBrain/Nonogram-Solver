{
 "cells": [
  {
   "cell_type": "code",
   "execution_count": 1,
   "metadata": {},
   "outputs": [],
   "source": [
    "import numpy as np\n",
    "from math import *"
   ]
  },
  {
   "cell_type": "code",
   "execution_count": 2,
   "metadata": {},
   "outputs": [],
   "source": [
    "def make_grid(n):\n",
    "    non_arr = [0] * n\n",
    "    for i in range(n):\n",
    "        non_arr[i] = \"?\"\n",
    "        non_arr = np.array(non_arr)\n",
    "    non_grid = [[0 for i in range(n)] for j in range(n)]\n",
    "    for i in range(n):\n",
    "        k = 0\n",
    "        for j in range(n):\n",
    "            non_grid[i][j] = non_arr[k]\n",
    "            k += 1\n",
    "    return non_grid"
   ]
  },
  {
   "cell_type": "code",
   "execution_count": 3,
   "metadata": {},
   "outputs": [],
   "source": [
    "def column(matrix, i):\n",
    "    return [row[i] for row in matrix]\n",
    "def replace_col(matrix, i, new_col):\n",
    "    for j in range(len(new_col)):\n",
    "        matrix[j][i] = new_col[j]\n",
    "    return matrix"
   ]
  },
  {
   "cell_type": "code",
   "execution_count": null,
   "metadata": {},
   "outputs": [],
   "source": []
  },
  {
   "cell_type": "code",
   "execution_count": 4,
   "metadata": {},
   "outputs": [],
   "source": [
    "def fill(x, y, grid):\n",
    "    grid[x][y] = \"*\"\n",
    "    return grid\n",
    "def x_grid(x, y, grid):\n",
    "    grid[x][y] = \"X\"\n",
    "    return grid"
   ]
  },
  {
   "cell_type": "code",
   "execution_count": 5,
   "metadata": {},
   "outputs": [],
   "source": [
    "def is_good(group_list, n):\n",
    "    dim = len(group_list)\n",
    "    good_nums = [False] * dim\n",
    "    for i in range(dim):\n",
    "        num = group_list[i]\n",
    "        test = n - sum(group_list) + num - dim + 1\n",
    "        if num > floor(test/2):\n",
    "            good_nums[i] = True\n",
    "    return(good_nums)"
   ]
  },
  {
   "cell_type": "code",
   "execution_count": 6,
   "metadata": {},
   "outputs": [],
   "source": [
    "def whats_left_list(group_list, n):\n",
    "    # see which numbers are good\n",
    "    dim = len(group_list)\n",
    "    good_list = is_good(group_list, n)\n",
    "    space_list = [(0, 0)] * dim\n",
    "    # get the space needed for each one\n",
    "    for i in range(dim):\n",
    "        if good_list[i]:\n",
    "            x = group_list[i]\n",
    "            rem = n - (sum(group_list) - x + dim - 1)\n",
    "            # make a coordinate with the entries being\n",
    "                # how much is on the edges\n",
    "                # how much is guaranteed)\n",
    "            space_list[i] = (rem - x, 2 * x - rem)\n",
    "    return space_list"
   ]
  },
  {
   "cell_type": "code",
   "execution_count": 7,
   "metadata": {},
   "outputs": [],
   "source": [
    "def sum_ind(a_list, ind):\n",
    "    run_sum = 0\n",
    "    for i in range(ind):\n",
    "        run_sum = run_sum + a_list[i]\n",
    "    return run_sum + ind"
   ]
  },
  {
   "cell_type": "code",
   "execution_count": 8,
   "metadata": {},
   "outputs": [],
   "source": [
    "def fill_in_row(in_row, group_list, n):\n",
    "    dim = len(group_list)\n",
    "    space_list = whats_left_list(group_list, n)\n",
    "    if space_list == [(0,0)] * dim:\n",
    "        return in_row\n",
    "    else:\n",
    "        for i in range(dim):\n",
    "            if space_list[i] != (0, 0):\n",
    "                (space, amt) = space_list[i]\n",
    "                # if it is first in the list then you only need to go over the space\n",
    "                if i == 0:\n",
    "                    over_this_much = space\n",
    "                else:\n",
    "                    over_this_much = sum_ind(group_list, i) + space\n",
    "                for j in range(amt):\n",
    "                    in_row[over_this_much + j] = \"*\"\n",
    "    return in_row"
   ]
  },
  {
   "cell_type": "code",
   "execution_count": 9,
   "metadata": {},
   "outputs": [],
   "source": [
    "def guaranteed_squares(row_col_list):\n",
    "    # row col list will have length 2n where n is the dimension\n",
    "    n = len(row_col_list) // 2\n",
    "    # make the grid\n",
    "    grid = make_grid(n)\n",
    "    # run each row and each column through the fill in row\n",
    "    # first do the rows\n",
    "    for i in range(n):\n",
    "        grid[i] = fill_in_row(grid[i], row_col_list[i], n)\n",
    "    for j in range(n):\n",
    "        #Get the current column from grid\n",
    "        col = column(grid, j)\n",
    "        #get the group information for that column\n",
    "        group_list = row_col_list[j + n]\n",
    "        # run that through fill in row\n",
    "        replace_col(grid, j, fill_in_row(col, group_list, n))\n",
    "    return grid"
   ]
  },
  {
   "cell_type": "code",
   "execution_count": 10,
   "metadata": {},
   "outputs": [],
   "source": [
    "reindeer = [[1, 1, 1, 1], [7], [1], [9], [4, 5], [9], [9], [9], [5], [4],\n",
    "    [3], [5], [5], [2, 5], [1, 1, 3], [2, 6], [1, 7], [10], [1, 7], [2, 2, 3]\n",
    "]"
   ]
  },
  {
   "cell_type": "code",
   "execution_count": 11,
   "metadata": {},
   "outputs": [],
   "source": [
    "def check_grid(grid, row_col_list):\n",
    "    new_grid = grid.copy() \n",
    "    prev_grid = 0\n",
    "    n = len(row_col_list) // 2\n",
    "    k = 0\n",
    "    while new_grid != prev_grid:\n",
    "        prev_grid = new_grid.copy()\n",
    "        for i in range(n):\n",
    "            new_grid[i] = is_done(new_grid[i], row_col_list[i])[0]\n",
    "        for j in range(n):\n",
    "            new_col = column(new_grid, j)\n",
    "            replace_col(new_grid, j, is_done(new_col, row_col_list[j + n])[0])\n",
    "        k += 1\n",
    "        if k > 20:\n",
    "            return \"Too Big, Oh no\"\n",
    "    return new_grid"
   ]
  },
  {
   "cell_type": "code",
   "execution_count": 12,
   "metadata": {},
   "outputs": [],
   "source": [
    "def row_reader(row):\n",
    "    #takes in a row and looks at how many groups there are\n",
    "    #probably a lot of the code in is_done will help\n",
    "    m = len(row)\n",
    "    cur_group_info = []\n",
    "    #find the first * and store that\n",
    "    star_count = row.count(\"*\")\n",
    "    #make sure there are actually stars\n",
    "    if star_count == 0:\n",
    "        return [0]\n",
    "    else:\n",
    "        #find the first place a star occurs\n",
    "        star_ind = row.index(\"*\")\n",
    "        #fill out cur_group_info with j as the runnning index\n",
    "        #initialize running total to count the total number of stars\n",
    "        run_total = 0\n",
    "        while star_ind < m:\n",
    "            #run groupsize to count the number of stars in a group\n",
    "            #put this number into cur_group_info\n",
    "            size = OG_groupsize(star_ind, row)\n",
    "            cur_group_info.append(size)\n",
    "            #increase the running total to make sure we don't get too big\n",
    "            run_total += size\n",
    "            #move star index over to the next star after this group ends\n",
    "            if run_total == star_count:\n",
    "                break\n",
    "            else:\n",
    "                star_ind = row.index(\"*\", star_ind + size)\n",
    "            return cur_group_info"
   ]
  },
  {
   "cell_type": "code",
   "execution_count": 13,
   "metadata": {},
   "outputs": [],
   "source": [
    "#read stuff in between x's as if it is its own row\n",
    "#look at if there is anything shaded in there. \n",
    "#figure out which group it is a part of\n",
    "#section out the part of that group\n",
    "#figure out what else could possibly go there"
   ]
  },
  {
   "cell_type": "code",
   "execution_count": 14,
   "metadata": {},
   "outputs": [],
   "source": [
    "#Check to see if a row is done\n",
    "def is_done(row, group_info):\n",
    "    #get the length of the row so you don't go out of range\n",
    "    m = len(row)\n",
    "    #initialize the list you'll compare in the end\n",
    "    cur_group_info = [0] * len(group_info)\n",
    "    #find the first * and store that\n",
    "    star_count = row.count(\"*\")\n",
    "    #make sure there are actually stars\n",
    "    cur_group_info = row_reader(row)\n",
    "    #compare to see if the two lists are the same (they won't be the same likely, \n",
    "    # I don't know how to deal with this right now\n",
    "    final_bool = cur_group_info == group_info\n",
    "    #if they are the same return true and fill in the ? with X's\n",
    "    if final_bool:\n",
    "        row = [\"X\" if x == \"?\" else x for x in row]\n",
    "    #if they are not the same, return false and X out the ones that are complete.\n",
    "    return (row, final_bool)"
   ]
  },
  {
   "cell_type": "code",
   "execution_count": 15,
   "metadata": {},
   "outputs": [],
   "source": [
    "#def a count after function to count the number of elements after a certain index\n",
    "def count_after(alist, ind, element):\n",
    "    splice_list = alist[0: ind + 1]\n",
    "    return alist.count(element) - splice_list.count(element)\n",
    "#get the groupsize by counting the question marks that surround it\n",
    "def groupsize(start, row):\n",
    "    #assume start is the index of the 'first' star\n",
    "    #the last question mark is then right before start i.e. ques_ind = start - 1\n",
    "    #get index of first question mark after the star\n",
    "    dim = len(row)\n",
    "    star_ind = row.index(\"*\", start)\n",
    "    #see if there are any ? or X's after this star\n",
    "    is_ques = count_after(row, star_ind, \"?\") != 0\n",
    "    is_X = count_after(row, star_ind, \"X\") != 0\n",
    "    if not is_X and not is_ques:\n",
    "        return dim - star_ind\n",
    "    else:\n",
    "        if is_X and is_ques:\n",
    "            fin_ques = min(row.index(\"X\", star_ind), row.index(\"?\", star_ind))\n",
    "            return fin_ques - star_ind\n",
    "        if is_X:\n",
    "            fin_ques = row.index(\"X\", star_ind)\n",
    "        if is_ques:\n",
    "            fin_ques = row.index(\"?\", star_ind)\n",
    "        #count how many stars there are in that range\n",
    "        #this amount is fin_ques - (ques_ind + 1) = fin_ques - start\n",
    "        return fin_ques - star_ind"
   ]
  },
  {
   "cell_type": "code",
   "execution_count": 16,
   "metadata": {},
   "outputs": [],
   "source": [
    "def OG_groupsize(start, row):\n",
    "    dim = len(row)\n",
    "    star_ind = row.index(\"*\", start)\n",
    "    i = star_ind\n",
    "    while row[i] == \"*\":\n",
    "        i += 1\n",
    "        if i >= dim:\n",
    "            break\n",
    "    return i - star_ind"
   ]
  },
  {
   "cell_type": "code",
   "execution_count": 17,
   "metadata": {},
   "outputs": [],
   "source": [
    "horse = [\n",
    "    [1, 1], [4], [2, 1, 1], [3, 1], [10], [7], [7], [8], [1, 1, 1, 1], [1, 1, 1, 1],\n",
    "    [2, 1], [5, 3], [1, 5], [10], [4], [4], [6], [4], [5], [3, 1]\n",
    "]    "
   ]
  },
  {
   "cell_type": "code",
   "execution_count": null,
   "metadata": {},
   "outputs": [],
   "source": []
  },
  {
   "cell_type": "code",
   "execution_count": 18,
   "metadata": {},
   "outputs": [],
   "source": [
    "#a method to fill in a row if it is backed against a wall\n",
    "def border(grid, row_col_list):\n",
    "    #first is the case where it is a top row\n",
    "    n = len(grid)\n",
    "    dim = len(row_col_list) // 2\n",
    "    toprow = grid[0]\n",
    "    botrow = grid[dim - 1]\n",
    "    firstcol = column(grid, 0)\n",
    "    lastcol = column(grid, dim - 1)\n",
    "    #get index of the first shaded\n",
    "    #assuming there is a star in the border\n",
    "    star_change = toprow.index(\"*\")\n",
    "    run_star = 0\n",
    "    star_count = toprow.count(\"*\")\n",
    "    while run_star < star_count:\n",
    "        #get the size of the shaded group in the row \n",
    "        #write a for loop to do that group\n",
    "        size = OG_groupsize(star_change, toprow)\n",
    "        for i in range(size):\n",
    "            #get the group info and get the amount that needs to be shaded\n",
    "            over = star_change + i\n",
    "            #how much it needs to go down for top row\n",
    "            amt = get_grouplist(over, row_col_list, True)[0]\n",
    "            #get the column\n",
    "            col = column(grid, over)\n",
    "            #fill in the column using fix fill\n",
    "            replace_col(grid, over, fill_fix(col, 0, amt, True))\n",
    "            #move on to the next one\n",
    "        run_star += size\n",
    "        if run_star < star_count:\n",
    "                star_change = toprow.index(\"*\", star_change + size)\n",
    "    return grid"
   ]
  },
  {
   "cell_type": "code",
   "execution_count": 19,
   "metadata": {},
   "outputs": [],
   "source": [
    "#a method to fill in a row if it is backed against a wall\n",
    "def new_border(grid, row_col_list):\n",
    "    #first is the case where it is a top row\n",
    "    dim = len(grid)\n",
    "    toprow = grid[0]\n",
    "    botrow = grid[dim - 1]\n",
    "    firstcol = column(grid, 0)\n",
    "    lastcol = column(grid, dim - 1)\n",
    "    #get index of the first shaded\n",
    "    #assuming there is a star in the border\n",
    "    grid1 = something(grid, toprow, True, True, row_col_list)\n",
    "    grid2 = something(grid1, botrow, False, True, row_col_list)\n",
    "    #transpose and run the two again\n",
    "    trans_grid = trans(grid2)\n",
    "    tgrid1 = something(trans_grid, firstcol, True, False, row_col_list)\n",
    "    tgrid2 = something(tgrid1, lastcol, False, False, row_col_list)\n",
    "    return trans(tgrid2)"
   ]
  },
  {
   "cell_type": "code",
   "execution_count": 20,
   "metadata": {},
   "outputs": [],
   "source": [
    "def something(grid, row, is_down, is_row, row_col_list):\n",
    "    run_star = 0\n",
    "    star_count = row.count(\"*\")\n",
    "    if star_count != 0:\n",
    "        star_change = row.index(\"*\")\n",
    "        while run_star < star_count:\n",
    "            #get the size of the shaded group in the row \n",
    "            #write a for loop to do that group\n",
    "            size = OG_groupsize(star_change, row)\n",
    "            for i in range(size):\n",
    "                #get the group info and get the amount that needs to be shaded\n",
    "                over = star_change + i\n",
    "                #how much it needs to go down for top row\n",
    "                group_list = get_grouplist(over, row_col_list, is_row)\n",
    "                #if we are filling downward we need the first element of the grouplist\n",
    "                if is_down:\n",
    "                    el = 0\n",
    "                else:\n",
    "                    el = len(group_list) - 1\n",
    "                amt = group_list[el]\n",
    "                #get the column\n",
    "                col = column(grid, over)\n",
    "                #fill in the column using fix fill\n",
    "                replace_col(grid, over, fill_fix(col, el, amt, is_down))\n",
    "                #move on to the next one\n",
    "            run_star += size\n",
    "            if run_star < star_count:\n",
    "                star_change = row.index(\"*\", star_change + size)\n",
    "        else:\n",
    "            return grid\n",
    "    return grid"
   ]
  },
  {
   "cell_type": "code",
   "execution_count": null,
   "metadata": {},
   "outputs": [],
   "source": []
  },
  {
   "cell_type": "code",
   "execution_count": null,
   "metadata": {},
   "outputs": [],
   "source": []
  },
  {
   "cell_type": "code",
   "execution_count": 21,
   "metadata": {},
   "outputs": [],
   "source": [
    "def trans(sq_matrix):\n",
    "    trans_mat = []\n",
    "    dim = len(sq_matrix)\n",
    "    for i in range(dim):\n",
    "        trans_mat.append(column(sq_matrix, i))\n",
    "    return trans_mat"
   ]
  },
  {
   "cell_type": "code",
   "execution_count": 22,
   "metadata": {},
   "outputs": [],
   "source": [
    "#something to fill in a set amount of squares then adds an x\n",
    "def fill_fix(in_row, start, amt, is_down):\n",
    "    dim = len(in_row)\n",
    "    if is_down:\n",
    "        start_amt = start + amt\n",
    "        for i in range(start, start_amt):\n",
    "            in_row[i] = \"*\"\n",
    "        if start_amt < dim:\n",
    "            in_row[start_amt] = \"X\"\n",
    "    else:\n",
    "        for i in range(amt):\n",
    "            in_row[dim - i - 1] = \"*\"\n",
    "        qty = dim - amt - 1\n",
    "        if qty >= 0:\n",
    "            in_row[qty] = \"X\"\n",
    "    return in_row"
   ]
  },
  {
   "cell_type": "code",
   "execution_count": 23,
   "metadata": {},
   "outputs": [],
   "source": [
    "#something that gets the grouplist from a certain element in a border row\n",
    "def get_grouplist(ind, row_col_list, is_row):\n",
    "    #it is assumed the index is the index of the star\n",
    "    #if it is in a row then go to that index and return in it in row_col_list\n",
    "    if is_row:\n",
    "        return row_col_list[ind + len(row_col_list)//2]\n",
    "    else:\n",
    "        return row_col_list[ind]\n",
    "    #if it is in a column, add the dimension to the index and return that"
   ]
  },
  {
   "cell_type": "code",
   "execution_count": 24,
   "metadata": {},
   "outputs": [],
   "source": [
    "#rein = check_grid(guaranteed_squares(reindeer), reindeer)"
   ]
  },
  {
   "cell_type": "code",
   "execution_count": 25,
   "metadata": {},
   "outputs": [],
   "source": [
    "santa_hat = [\n",
    "    [3], [2, 1], [5], [4], [6], [8], [8], [1, 1], [1, 6, 1], [8],\n",
    "    [2], [2, 1], [3, 2],[5, 2], [6, 2], [7, 2], [1, 5, 2], [3, 3, 2], [2, 1], [2]\n",
    "]"
   ]
  },
  {
   "cell_type": "code",
   "execution_count": 26,
   "metadata": {},
   "outputs": [],
   "source": [
    "santa = guaranteed_squares(santa_hat)"
   ]
  },
  {
   "cell_type": "code",
   "execution_count": 27,
   "metadata": {},
   "outputs": [],
   "source": [
    "#check_grid(new_border(santa, santa_hat), santa_hat)"
   ]
  },
  {
   "cell_type": "code",
   "execution_count": 28,
   "metadata": {},
   "outputs": [],
   "source": [
    "lmao = check_grid(guaranteed_squares(reindeer), reindeer)"
   ]
  },
  {
   "cell_type": "code",
   "execution_count": 29,
   "metadata": {},
   "outputs": [],
   "source": [
    "#something that takes out a chunk and replaces it"
   ]
  },
  {
   "cell_type": "code",
   "execution_count": 30,
   "metadata": {},
   "outputs": [],
   "source": [
    "def print_nice(grid):\n",
    "    #run list_to_nice on all the rows to get nice strings\n",
    "    #make a string with \\n at the end of each row\n",
    "    n = len(grid)\n",
    "    long_str = \"  \"\n",
    "    for i in range(n):\n",
    "        long_str += \" \" + str(i) + \" \"\n",
    "    long_str += \"\\n\"\n",
    "    for j in range(len(grid)):\n",
    "        long_str += str(j) + \" \" + list_to_nice(grid[j])\n",
    "    return print(long_str)"
   ]
  },
  {
   "cell_type": "code",
   "execution_count": 31,
   "metadata": {},
   "outputs": [],
   "source": [
    "def list_to_nice(row):\n",
    "    #row either has x's, *'s, or ?'s.\n",
    "    #If it is a question mark, replace it with a space\n",
    "    #If it is an X, leave it\n",
    "    #If it is a star, fill it with your favorite unicode symbol\n",
    "    run_str = \"\"\n",
    "    for i in range(len(row)):\n",
    "        if row[i] == \"?\":\n",
    "            run_str += \"   \"\n",
    "        if row[i] == \"X\":\n",
    "            run_str += \" X \"\n",
    "        if row[i] == \"*\":\n",
    "            run_str += \" ■ \"\n",
    "    run_str += \"\\n\"\n",
    "    return run_str"
   ]
  },
  {
   "cell_type": "code",
   "execution_count": 32,
   "metadata": {},
   "outputs": [],
   "source": [
    "#print_nice(rein)"
   ]
  },
  {
   "cell_type": "code",
   "execution_count": 33,
   "metadata": {},
   "outputs": [],
   "source": [
    "#print_nice(check_grid(new_border(rein, reindeer), reindeer))"
   ]
  },
  {
   "cell_type": "code",
   "execution_count": 34,
   "metadata": {},
   "outputs": [],
   "source": [
    "#in order to understand X's I need\n",
    "#something that reads in a row, looks at the group information, \n",
    "def what_could_it_be(row, group_info):\n",
    "    if row.count(\"*\") == 0:\n",
    "        return row\n",
    "    else:\n",
    "        #get the index\n",
    "        first_ind = row.index(\"*\")\n",
    "        size = OG_groupsize(0, row)\n",
    "        #get the group size and compare it to the group info\n",
    "        \n",
    "#then sees what filled in squares could be/what it is\n",
    "#once it knows what that group is take that snippet between X's\n",
    "#run fill in row as if the whole row was just that chunk "
   ]
  },
  {
   "cell_type": "code",
   "execution_count": 35,
   "metadata": {},
   "outputs": [],
   "source": [
    "#a method to check and see if the first shaded square is part of the first group in that row\n",
    "def is_first(row, group_info):\n",
    "    len_row = len(row)\n",
    "    len_group = len(group_info)\n",
    "    first = group_info[0]\n",
    "    if row.count(\"*\") == 0:\n",
    "        return (row, False)\n",
    "    else:\n",
    "        first_star = row.index(\"*\")\n",
    "        size = OG_groupsize(0, row)\n",
    "        #see if there is only one number in that row, \n",
    "            #if there is, x around it and return the row\n",
    "        if len_group == 1:\n",
    "            return group_of_one(row, group_info)\n",
    "        #else, see if that group could be the second number by seeing if there is room for \n",
    "            #one more than the first group (to account for the x) can fit behind the star\n",
    "        else:\n",
    "            #this means that it could be the first one or not\n",
    "            if first + 1 <= first_star:\n",
    "                return (row, False)\n",
    "            else:\n",
    "                #this means it is the first one for sure\n",
    "                #if the first element is a one, X around it\n",
    "                if first == 1:\n",
    "                    if first_star - 1 >= 0:\n",
    "                        row[first_star - 1] = \"X\"\n",
    "                    if first_star + 1 < len_row:\n",
    "                        row[first_star + 1] = \"X\"\n",
    "                #if it is not a one then X what you can before it \n",
    "                else:\n",
    "                    leftover = first - size\n",
    "                    down_ind = first_star - leftover - 1\n",
    "                    return x_down\n",
    "                    #hush\n",
    "        #it may be useful to have an is_connected method to see if two groups \n",
    "            #side by side can be connected"
   ]
  },
  {
   "cell_type": "code",
   "execution_count": 36,
   "metadata": {},
   "outputs": [],
   "source": [
    "#write something that makes the puzzle\n",
    "    #takes in the dimension\n",
    "    #gets some random numbers and uses it to fill in rows with stugg\n",
    "    #stick the rows together to make a grid\n",
    "#now write something that reads the row and column information\n",
    "#then returns it\n",
    "#boom, infinite examples\n",
    "#ok but some of them mught not have unique answers I don't know how to deal with that quite yet"
   ]
  },
  {
   "cell_type": "code",
   "execution_count": 37,
   "metadata": {},
   "outputs": [],
   "source": [
    "def group_of_one(row, group_info):\n",
    "    if row.count(\"*\") == 0:\n",
    "        return (row, False)\n",
    "    else:\n",
    "        first = group_info[0]\n",
    "        first_star_ind = row.index(\"*\") \n",
    "        size = OG_groupsize(0, row)\n",
    "        whats_left = first - size\n",
    "        #go up whats left and then X everything above that\n",
    "        down_ind = first_star_ind - whats_left - 1\n",
    "        if down_ind >= 0:\n",
    "            row = x_down(row, down_ind)\n",
    "        #go down whats left and X everything below that\n",
    "        up_ind = first_star_ind + whats_left + 1\n",
    "        if up_ind < len(row):\n",
    "            row = x_up(row, up_ind)\n",
    "        return (row, True)"
   ]
  },
  {
   "cell_type": "code",
   "execution_count": 38,
   "metadata": {},
   "outputs": [],
   "source": [
    "def x_down(row, ind):\n",
    "    mov_ind = ind\n",
    "    while mov_ind >= 0:\n",
    "        row[mov_ind] = \"X\"\n",
    "        mov_ind -= 1\n",
    "    return row\n",
    "def x_up(row, ind):\n",
    "    row.reverse()\n",
    "    new_ind = len(row) - ind - 1\n",
    "    filled = x_down(row, new_ind)\n",
    "    filled.reverse()\n",
    "    return filled"
   ]
  },
  {
   "cell_type": "code",
   "execution_count": null,
   "metadata": {},
   "outputs": [],
   "source": []
  },
  {
   "cell_type": "code",
   "execution_count": null,
   "metadata": {},
   "outputs": [],
   "source": [
    "   "
   ]
  },
  {
   "cell_type": "code",
   "execution_count": 39,
   "metadata": {},
   "outputs": [],
   "source": [
    "import random as r"
   ]
  },
  {
   "cell_type": "code",
   "execution_count": 40,
   "metadata": {},
   "outputs": [],
   "source": [
    "def rand_row(n):\n",
    "    #takes in the length of the row and \n",
    "        #returns it filled in with the row information\n",
    "    row = [\"?\"] * n\n",
    "    #pick a certain amount of space over to start at\n",
    "    space_over = r.randint(0, n)\n",
    "    #if it is n, return the empty row with [0]\n",
    "    group = []\n",
    "    #if space_over == n then space_left = -1 which is not > 0\n",
    "    space_left = n - (space_over + 1)\n",
    "    if space_left <= 0:\n",
    "        return (row, [0])\n",
    "    while space_left > 0:\n",
    "        #pick a size for the group\n",
    "        group_size = r.randint(1, space_left)\n",
    "        group.append(group_size)\n",
    "        #fill it in\n",
    "        for j in range(group_size):\n",
    "            row[space_over + j] = \"*\"\n",
    "        space_over = group_size + 1 + space_over\n",
    "        space_left = n - (space_over)\n",
    "        #see whats left and repeat\n",
    "    return (row, group)"
   ]
  },
  {
   "cell_type": "code",
   "execution_count": 41,
   "metadata": {},
   "outputs": [],
   "source": [
    "def row_reader(row):\n",
    "    #takes in a row and looks at how many groups there are\n",
    "    #probably a lot of the code in is_done will help\n",
    "    m = len(row)\n",
    "    cur_group_info = []\n",
    "    #find the first * and store that\n",
    "    star_count = row.count(\"*\")\n",
    "    #make sure there are actually stars\n",
    "    if star_count == 0:\n",
    "        return [0]\n",
    "    else:\n",
    "        #find the first place a star occurs\n",
    "        star_ind = row.index(\"*\")\n",
    "        #fill out cur_group_info with j as the runnning index\n",
    "        #initialize running total to count the total number of stars\n",
    "        run_total = 0\n",
    "        while star_ind < m:\n",
    "            #run groupsize to count the number of stars in a group\n",
    "            #put this number into cur_group_info\n",
    "            size = OG_groupsize(star_ind, row)\n",
    "            cur_group_info.append(size)\n",
    "            #increase the running total to make sure we don't get too big\n",
    "            run_total += size\n",
    "            #move star index over to the next star after this group ends\n",
    "            if run_total == star_count:\n",
    "                break\n",
    "            else:\n",
    "                star_ind = row.index(\"*\", star_ind + size)\n",
    "            return cur_group_info"
   ]
  },
  {
   "cell_type": "code",
   "execution_count": 42,
   "metadata": {},
   "outputs": [],
   "source": [
    "def puzzle_gen(n):\n",
    "    grid = make_grid(n)\n",
    "    group_info = [[]] * (2 * n)\n",
    "    for i in range(n):\n",
    "        #generate n random rows\n",
    "        #get their group info into a list\n",
    "        (grid[i], group_info[i]) = rand_row(n)\n",
    "    for j in range(n):\n",
    "        #strip the columns\n",
    "        col = column(grid, j)\n",
    "        group_info[j + n] = row_reader(col)\n",
    "        #put the columns in the same list\n",
    "    #return the picture and the group information\n",
    "    print_nice(grid)\n",
    "    return group_info"
   ]
  },
  {
   "cell_type": "code",
   "execution_count": null,
   "metadata": {},
   "outputs": [],
   "source": []
  },
  {
   "cell_type": "code",
   "execution_count": 43,
   "metadata": {},
   "outputs": [],
   "source": [
    "#the next thing is to get the spaces and look at them \n",
    "#either spaces between X's or just space in general\n",
    "#see if something can go there\n",
    "#or identify which numbers can go where"
   ]
  },
  {
   "cell_type": "code",
   "execution_count": 44,
   "metadata": {},
   "outputs": [],
   "source": [
    "def all_meths(group_info):\n",
    "    return new_border(check_grid(guaranteed_squares(group_info), group_info), group_info)"
   ]
  },
  {
   "cell_type": "code",
   "execution_count": 45,
   "metadata": {},
   "outputs": [],
   "source": [
    "# a group class so that we can know what group is which number \n",
    "# additionally so we know when a group is done\n",
    "# it should have the coordinates of the shaded squares in the group\n",
    "# it should know which numbers in the row it can be\n",
    "class group:\n",
    "    def __init__(self, group_info, size):\n",
    "        self.pos = [(num, True) for num in group_info]\n",
    "        self.size = size\n",
    "        \n",
    "    def update_pos(self, ind):\n",
    "        self.pos(ind)[1] = False"
   ]
  },
  {
   "cell_type": "code",
   "execution_count": 46,
   "metadata": {},
   "outputs": [],
   "source": [
    "def new_row_reader(is_col, row_num, row):\n",
    "    #takes in a row and looks at how many groups there are\n",
    "    #probably a lot of the code in is_done will help\n",
    "    m = len(row)\n",
    "    cur_group_info = []\n",
    "    #find the first * and store that\n",
    "    star_count = row.count(\"*\")\n",
    "    #make sure there are actually stars\n",
    "    if star_count == 0:\n",
    "        return [0]\n",
    "    else:\n",
    "        #find the first place a star occurs\n",
    "        star_ind = row.index(\"*\")\n",
    "        #fill out cur_group_info with j as the runnning index\n",
    "        #initialize running total to count the total number of stars\n",
    "        run_total = 0\n",
    "        while star_ind < m:\n",
    "            coords = []\n",
    "            #run groupsize to count the number of stars in a group\n",
    "            #put this number into cur_group_info\n",
    "            size = OG_groupsize(star_ind, row)\n",
    "            for i in range(size):\n",
    "                coords.append((row_num, star_ind + i))\n",
    "            if is_col:\n",
    "                coords = [(coord[1], coord[0]) for coord in coords]\n",
    "            cur_group_info.append([size, coords])\n",
    "            #increase the running total to make sure we don't get too big\n",
    "            run_total += size\n",
    "            #move star index over to the next star after this group ends\n",
    "            if run_total == star_count:\n",
    "                break\n",
    "            else:\n",
    "                star_ind = row.index(\"*\", star_ind + size)\n",
    "        return cur_group_info"
   ]
  },
  {
   "cell_type": "code",
   "execution_count": 47,
   "metadata": {},
   "outputs": [],
   "source": [
    "row = rand_row(10)\n",
    "#print(row)\n",
    "#new_row_reader(True, 5, row[0]) "
   ]
  },
  {
   "cell_type": "code",
   "execution_count": null,
   "metadata": {},
   "outputs": [],
   "source": []
  },
  {
   "cell_type": "code",
   "execution_count": null,
   "metadata": {},
   "outputs": [],
   "source": []
  }
 ],
 "metadata": {
  "kernelspec": {
   "display_name": "Python 3 (ipykernel)",
   "language": "python",
   "name": "python3"
  },
  "language_info": {
   "codemirror_mode": {
    "name": "ipython",
    "version": 3
   },
   "file_extension": ".py",
   "mimetype": "text/x-python",
   "name": "python",
   "nbconvert_exporter": "python",
   "pygments_lexer": "ipython3",
   "version": "3.9.10"
  }
 },
 "nbformat": 4,
 "nbformat_minor": 4
}
