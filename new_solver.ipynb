{
 "cells": [
  {
   "cell_type": "code",
   "execution_count": 66,
   "id": "da549635",
   "metadata": {},
   "outputs": [],
   "source": [
    "%run in_nonogram.ipynb"
   ]
  },
  {
   "cell_type": "code",
   "execution_count": 67,
   "id": "c8c3b518",
   "metadata": {},
   "outputs": [],
   "source": [
    "def better_reader(row_obj):\n",
    "    cur_info = []\n",
    "    if row_obj.content == [0]:\n",
    "        return [0]\n",
    "    for pair in row_obj.content:\n",
    "        cur_info.append(pair[0])\n",
    "    return cur_info"
   ]
  },
  {
   "cell_type": "code",
   "execution_count": 68,
   "id": "853623ef",
   "metadata": {},
   "outputs": [],
   "source": [
    "class row_or_col:\n",
    "    def __init__(self, group_info, row, is_col, row_num):\n",
    "        self.end_info = group_info\n",
    "        self.row = row\n",
    "        self.is_col = is_col\n",
    "        self.num = row_num\n",
    "        self.content = new_row_reader(self.is_col, self.num, self.row)\n",
    "        self.cur_info = better_reader(self)\n",
    "        self.is_done = self.cur_info == self.end_info\n",
    "        if self.content == [0]:\n",
    "            self.num_of_grps = 0\n",
    "        else:\n",
    "            self.num_of_grps = len(self.cur_info)"
   ]
  },
  {
   "cell_type": "code",
   "execution_count": 69,
   "id": "0e35b3e5",
   "metadata": {},
   "outputs": [],
   "source": [
    "class group:\n",
    "    def __init__(self, ind, row_num):\n",
    "        self.pos = [(num, True) for num in row.end_info]\n",
    "        (self.size, self.coords) = row.content[ind]\n",
    "        for posb in pos:\n",
    "            if posb[0] < self.size:\n",
    "                posb[1] = False\n",
    "        #self.is_done = row.cur_info[ind] == row.end_info[ind]\n",
    "    \n",
    "    def update_pos(self, ind):\n",
    "        self.pos(ind)[1] = False"
   ]
  },
  {
   "cell_type": "code",
   "execution_count": 70,
   "id": "138dc896",
   "metadata": {},
   "outputs": [
    {
     "name": "stdout",
     "output_type": "stream",
     "text": [
      "(['?', '?', '?', '?', '?', '?', '*', '*', '*', '?'], [3])\n"
     ]
    }
   ],
   "source": [
    "row = rand_row(10)\n",
    "print(row)"
   ]
  },
  {
   "cell_type": "code",
   "execution_count": 71,
   "id": "4dd23ecd",
   "metadata": {},
   "outputs": [],
   "source": [
    "row_obj = row_or_col([4, 1], row[0], False, 4)"
   ]
  },
  {
   "cell_type": "code",
   "execution_count": 72,
   "id": "84ffa871",
   "metadata": {},
   "outputs": [],
   "source": [
    "# modify fill in row to initialize the group so you know exactly which one it is.\n",
    "def fill_in_row_new(in_row, n):\n",
    "    group_list = in_row.end_info\n",
    "    dim = len(group_list)\n",
    "    space_list = whats_left_list(group_list, n)\n",
    "    if space_list == [(0,0)] * dim:\n",
    "        return in_row\n",
    "    else:\n",
    "        for i in range(dim):\n",
    "            if space_list[i] != (0, 0):\n",
    "                coord = []\n",
    "                (space, amt) = space_list[i]\n",
    "                # if it is first in the list then you only need to go over the space\n",
    "                if i == 0:\n",
    "                    over_this_much = space\n",
    "                else:\n",
    "                    over_this_much = sum_ind(group_list, i) + space\n",
    "                for j in range(amt):\n",
    "                    in_row.row[over_this_much + j] = \"*\"\n",
    "                    coord.append((over_this_much + j, in_row.num))\n",
    "                coord = swap_coor(coord, in_row.is_col)\n",
    "                pair = [amt, coord]\n",
    "                if in_row.content == [0]:\n",
    "                    in_row.content = [pair]\n",
    "                else:\n",
    "                    in_row.content.append(pair)\n",
    "    return in_row"
   ]
  },
  {
   "cell_type": "code",
   "execution_count": 73,
   "id": "2e0bcb76",
   "metadata": {},
   "outputs": [],
   "source": [
    "def swap_coor(coords, is_col):\n",
    "    if is_col:\n",
    "        coords = [(coord[1], coord[0]) for coord in coords]\n",
    "    return coords"
   ]
  },
  {
   "cell_type": "code",
   "execution_count": 74,
   "id": "36a135ec",
   "metadata": {},
   "outputs": [],
   "source": [
    "blank = row_or_col([6], ['?'] * 10, False, 1)\n",
    "blank1 = fill_in_row_new(blank, 10)"
   ]
  },
  {
   "cell_type": "code",
   "execution_count": 75,
   "id": "4997c332",
   "metadata": {},
   "outputs": [],
   "source": [
    "def read_in(row_col_list):\n",
    "    #get dimension\n",
    "    n = len(row_col_list) // 2\n",
    "    blank = ['?'] * n\n",
    "    rows = []\n",
    "    cols = []\n",
    "    #read the first n as rows\n",
    "    #read the next n as columns\n",
    "    for i in range(n):\n",
    "        rows.append(row_or_col(row_col_list[i], blank, False, i))\n",
    "        cols.append(row_or_col(row_col_list[i + n], blank, True, i + n))\n",
    "    return (rows, cols)"
   ]
  },
  {
   "cell_type": "code",
   "execution_count": 76,
   "id": "b1cea92e",
   "metadata": {},
   "outputs": [],
   "source": [
    "rein = read_in(reindeer)"
   ]
  },
  {
   "cell_type": "code",
   "execution_count": 77,
   "id": "4395fd4d",
   "metadata": {},
   "outputs": [],
   "source": [
    "def guaranteed_squares_new(row_col_list):\n",
    "    # row col list will have length 2n where n is the dimension\n",
    "    n = len(row_col_list) // 2\n",
    "    # make the grid\n",
    "    (grid_row, grid_col) = read_in(row_col_list)\n",
    "    # run each row and each column through the fill in row\n",
    "    # first do the rows\n",
    "    for i in range(n):\n",
    "        grid_row[i] = fill_in_row_new(grid_row[i], n)\n",
    "        grid_col[i] = fill_in_row_new(grid_col[i], n)\n",
    "    return (grid_row, grid_col)"
   ]
  },
  {
   "cell_type": "code",
   "execution_count": 78,
   "id": "93cee572",
   "metadata": {},
   "outputs": [],
   "source": [
    "def print_grid(grid_row):\n",
    "    #run list_to_nice on all the rows to get nice strings\n",
    "    #make a string with \\n at the end of each row\n",
    "    n = len(grid_row)\n",
    "    long_str = \"  \"\n",
    "    for i in range(n):\n",
    "        long_str += \" \" + str(i) + \" \"\n",
    "    long_str += \"\\n\"\n",
    "    for j in range(n):\n",
    "        long_str += str(j) + \" \" + list_to_nice(grid_row[j].row)\n",
    "    return print(long_str)"
   ]
  },
  {
   "cell_type": "code",
   "execution_count": null,
   "id": "ba0d72ea",
   "metadata": {},
   "outputs": [],
   "source": []
  },
  {
   "cell_type": "code",
   "execution_count": 82,
   "id": "08120353",
   "metadata": {},
   "outputs": [
    {
     "data": {
      "text/plain": [
       "[['?', '?', '?', '?', '?', '?', '?', '*', '?', '?'],\n",
       " ['?', '?', '?', '*', '*', '*', '*', '*', '?', '*'],\n",
       " ['?', '?', '?', '?', '?', '?', '?', '*', '?', '?'],\n",
       " ['?', '*', '*', '*', '*', '*', '*', '*', '*', '?'],\n",
       " ['*', '*', '*', '*', '?', '*', '*', '*', '*', '*'],\n",
       " ['?', '*', '*', '*', '*', '*', '*', '*', '*', '?'],\n",
       " ['?', '*', '*', '*', '*', '*', '*', '*', '*', '?'],\n",
       " ['?', '*', '*', '*', '*', '*', '*', '*', '*', '*'],\n",
       " ['?', '?', '?', '?', '?', '*', '*', '*', '*', '*'],\n",
       " ['?', '?', '?', '?', '?', '?', '?', '*', '?', '?']]"
      ]
     },
     "execution_count": 82,
     "metadata": {},
     "output_type": "execute_result"
    }
   ],
   "source": [
    "guaranteed_squares(reindeer)"
   ]
  }
 ],
 "metadata": {
  "kernelspec": {
   "display_name": "Python 3 (ipykernel)",
   "language": "python",
   "name": "python3"
  },
  "language_info": {
   "codemirror_mode": {
    "name": "ipython",
    "version": 3
   },
   "file_extension": ".py",
   "mimetype": "text/x-python",
   "name": "python",
   "nbconvert_exporter": "python",
   "pygments_lexer": "ipython3",
   "version": "3.9.10"
  }
 },
 "nbformat": 4,
 "nbformat_minor": 5
}
